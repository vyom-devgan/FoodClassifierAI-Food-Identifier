{
 "cells": [
  {
   "cell_type": "code",
   "execution_count": 89,
   "id": "e590c501-e501-4eed-b3cb-740f7744f4a3",
   "metadata": {},
   "outputs": [],
   "source": [
    "# import dependencies\n",
    "import tensorflow as tf\n",
    "import os\n",
    "from PIL import Image\n",
    "import numpy as np\n",
    "import random\n",
    "import matplotlib.pyplot as plt\n",
    "import shutil"
   ]
  },
  {
   "cell_type": "code",
   "execution_count": 25,
   "id": "4b1f44f7-8f02-4597-a433-c2cdaaf6ea26",
   "metadata": {},
   "outputs": [],
   "source": [
    "# Avoiding OOM errors by setting GPU memory Consumption Growth \n",
    "gpus = tf.config.experimental.list_physical_devices('GPU')\n",
    "for gpu in gpus:\n",
    "    tf.config.experimental.set_memory_growth(gpu, True)"
   ]
  },
  {
   "cell_type": "code",
   "execution_count": 26,
   "id": "33331468-d375-40d1-8a8d-4345ea3193c7",
   "metadata": {},
   "outputs": [
    {
     "data": {
      "text/plain": [
       "[PhysicalDevice(name='/physical_device:GPU:0', device_type='GPU')]"
      ]
     },
     "execution_count": 26,
     "metadata": {},
     "output_type": "execute_result"
    }
   ],
   "source": [
    "# confirming that out workload is GPU accelerated\n",
    "tf.config.experimental.list_physical_devices('GPU')"
   ]
  },
  {
   "cell_type": "code",
   "execution_count": 27,
   "id": "3bdd20fb-7a38-4d3b-9aba-9edb86ac8578",
   "metadata": {},
   "outputs": [],
   "source": [
    "# Import the data\n",
    "# Base path t food dataset\n",
    "food_base_path = \"./data/Food\""
   ]
  },
  {
   "cell_type": "code",
   "execution_count": 23,
   "id": "02acdf33-9326-49f4-90f5-4f0004774eba",
   "metadata": {},
   "outputs": [
    {
     "data": {
      "text/plain": [
       "['apple_pie',\n",
       " 'baby_back_ribs',\n",
       " 'baklava',\n",
       " 'beef_carpaccio',\n",
       " 'beef_tartare',\n",
       " 'beet_salad',\n",
       " 'beignets',\n",
       " 'bibimbap',\n",
       " 'bread_pudding',\n",
       " 'breakfast_burrito',\n",
       " 'bruschetta',\n",
       " 'caesar_salad',\n",
       " 'cannoli',\n",
       " 'caprese_salad',\n",
       " 'carrot_cake',\n",
       " 'ceviche',\n",
       " 'cheesecake',\n",
       " 'cheese_plate',\n",
       " 'chicken_curry',\n",
       " 'chicken_quesadilla',\n",
       " 'chicken_wings',\n",
       " 'chocolate_cake',\n",
       " 'chocolate_mousse',\n",
       " 'churros',\n",
       " 'clam_chowder',\n",
       " 'club_sandwich',\n",
       " 'crab_cakes',\n",
       " 'creme_brulee',\n",
       " 'croque_madame',\n",
       " 'cup_cakes',\n",
       " 'deviled_eggs',\n",
       " 'donuts',\n",
       " 'dumplings',\n",
       " 'edamame',\n",
       " 'eggs_benedict',\n",
       " 'escargots',\n",
       " 'falafel',\n",
       " 'filet_mignon',\n",
       " 'fish_and_chips',\n",
       " 'foie_gras',\n",
       " 'french_fries',\n",
       " 'french_onion_soup',\n",
       " 'french_toast',\n",
       " 'fried_calamari',\n",
       " 'fried_rice',\n",
       " 'frozen_yogurt',\n",
       " 'garlic_bread',\n",
       " 'gnocchi',\n",
       " 'greek_salad',\n",
       " 'grilled_cheese_sandwich',\n",
       " 'grilled_salmon',\n",
       " 'guacamole',\n",
       " 'gyoza',\n",
       " 'hamburger',\n",
       " 'hot_and_sour_soup',\n",
       " 'hot_dog',\n",
       " 'huevos_rancheros',\n",
       " 'hummus',\n",
       " 'ice_cream',\n",
       " 'lasagna',\n",
       " 'lobster_bisque',\n",
       " 'lobster_roll_sandwich',\n",
       " 'macaroni_and_cheese',\n",
       " 'macarons',\n",
       " 'miso_soup',\n",
       " 'mussels',\n",
       " 'nachos',\n",
       " 'omelette',\n",
       " 'onion_rings',\n",
       " 'oysters',\n",
       " 'pad_thai',\n",
       " 'paella',\n",
       " 'pancakes',\n",
       " 'panna_cotta',\n",
       " 'peking_duck',\n",
       " 'pho',\n",
       " 'pizza',\n",
       " 'pork_chop',\n",
       " 'poutine',\n",
       " 'prime_rib',\n",
       " 'pulled_pork_sandwich',\n",
       " 'ramen',\n",
       " 'ravioli',\n",
       " 'red_velvet_cake',\n",
       " 'risotto',\n",
       " 'samosa',\n",
       " 'sashimi',\n",
       " 'scallops',\n",
       " 'seaweed_salad',\n",
       " 'shrimp_and_grits',\n",
       " 'spaghetti_bolognese',\n",
       " 'spaghetti_carbonara',\n",
       " 'spring_rolls',\n",
       " 'steak',\n",
       " 'strawberry_shortcake',\n",
       " 'sushi',\n",
       " 'tacos',\n",
       " 'takoyaki',\n",
       " 'tiramisu',\n",
       " 'tuna_tartare',\n",
       " 'waffles']"
      ]
     },
     "execution_count": 23,
     "metadata": {},
     "output_type": "execute_result"
    }
   ],
   "source": [
    "# printing the list of subdirectories excluding the txt files\n",
    "subfolders = [dir for dir in os.listdir(\"./data/Food\") if os.path.isdir(os.path.join(\"./data/Food\", dir))]\n",
    "subfolders"
   ]
  },
  {
   "cell_type": "code",
   "execution_count": 32,
   "id": "1c9d37b7-88cb-4d5b-bac1-e7eb9af3cfaa",
   "metadata": {},
   "outputs": [
    {
     "data": {
      "text/plain": [
       "{'apple_pie': 1000,\n",
       " 'baby_back_ribs': 1000,\n",
       " 'baklava': 1000,\n",
       " 'beef_carpaccio': 1000,\n",
       " 'beef_tartare': 1000,\n",
       " 'beet_salad': 1000,\n",
       " 'beignets': 1000,\n",
       " 'bibimbap': 1000,\n",
       " 'bread_pudding': 1000,\n",
       " 'breakfast_burrito': 1000,\n",
       " 'bruschetta': 1000,\n",
       " 'caesar_salad': 1000,\n",
       " 'cannoli': 1000,\n",
       " 'caprese_salad': 1000,\n",
       " 'carrot_cake': 1000,\n",
       " 'ceviche': 1000,\n",
       " 'cheesecake': 1000,\n",
       " 'cheese_plate': 1000,\n",
       " 'chicken_curry': 1000,\n",
       " 'chicken_quesadilla': 1000,\n",
       " 'chicken_wings': 1000,\n",
       " 'chocolate_cake': 1000,\n",
       " 'chocolate_mousse': 1000,\n",
       " 'churros': 1000,\n",
       " 'clam_chowder': 1000,\n",
       " 'club_sandwich': 1000,\n",
       " 'crab_cakes': 1000,\n",
       " 'creme_brulee': 1000,\n",
       " 'croque_madame': 1000,\n",
       " 'cup_cakes': 1000,\n",
       " 'deviled_eggs': 1000,\n",
       " 'donuts': 1000,\n",
       " 'dumplings': 1000,\n",
       " 'edamame': 1000,\n",
       " 'eggs_benedict': 1000,\n",
       " 'escargots': 1000,\n",
       " 'falafel': 1000,\n",
       " 'filet_mignon': 1000,\n",
       " 'fish_and_chips': 1000,\n",
       " 'foie_gras': 1000,\n",
       " 'french_fries': 1000,\n",
       " 'french_onion_soup': 1000,\n",
       " 'french_toast': 1000,\n",
       " 'fried_calamari': 1000,\n",
       " 'fried_rice': 1000,\n",
       " 'frozen_yogurt': 1000,\n",
       " 'garlic_bread': 1000,\n",
       " 'gnocchi': 1000,\n",
       " 'greek_salad': 1000,\n",
       " 'grilled_cheese_sandwich': 1000,\n",
       " 'grilled_salmon': 1000,\n",
       " 'guacamole': 1000,\n",
       " 'gyoza': 1000,\n",
       " 'hamburger': 1000,\n",
       " 'hot_and_sour_soup': 1000,\n",
       " 'hot_dog': 1000,\n",
       " 'huevos_rancheros': 1000,\n",
       " 'hummus': 1000,\n",
       " 'ice_cream': 1000,\n",
       " 'lasagna': 1000,\n",
       " 'lobster_bisque': 1000,\n",
       " 'lobster_roll_sandwich': 1000,\n",
       " 'macaroni_and_cheese': 1000,\n",
       " 'macarons': 1000,\n",
       " 'miso_soup': 1000,\n",
       " 'mussels': 1000,\n",
       " 'nachos': 1000,\n",
       " 'omelette': 1000,\n",
       " 'onion_rings': 1000,\n",
       " 'oysters': 1000,\n",
       " 'pad_thai': 1000,\n",
       " 'paella': 1000,\n",
       " 'pancakes': 1000,\n",
       " 'panna_cotta': 1000,\n",
       " 'peking_duck': 1000,\n",
       " 'pho': 1000,\n",
       " 'pizza': 1000,\n",
       " 'pork_chop': 1000,\n",
       " 'poutine': 1000,\n",
       " 'prime_rib': 1000,\n",
       " 'pulled_pork_sandwich': 1000,\n",
       " 'ramen': 1000,\n",
       " 'ravioli': 1000,\n",
       " 'red_velvet_cake': 1000,\n",
       " 'risotto': 1000,\n",
       " 'samosa': 1000,\n",
       " 'sashimi': 1000,\n",
       " 'scallops': 1000,\n",
       " 'seaweed_salad': 1000,\n",
       " 'shrimp_and_grits': 1000,\n",
       " 'spaghetti_bolognese': 1000,\n",
       " 'spaghetti_carbonara': 1000,\n",
       " 'spring_rolls': 1000,\n",
       " 'steak': 1000,\n",
       " 'strawberry_shortcake': 1000,\n",
       " 'sushi': 1000,\n",
       " 'tacos': 1000,\n",
       " 'takoyaki': 1000,\n",
       " 'tiramisu': 1000,\n",
       " 'tuna_tartare': 1000,\n",
       " 'waffles': 1000}"
      ]
     },
     "execution_count": 32,
     "metadata": {},
     "output_type": "execute_result"
    }
   ],
   "source": [
    "# Lets count the number of images in each subfolder:\n",
    "\n",
    "count_images_subfolders = {category: len(os.listdir(f'./data/Food/{category}')) for category in subfolders}\n",
    "count_images_subfolders\n"
   ]
  },
  {
   "cell_type": "code",
   "execution_count": 38,
   "id": "51a04293-9df0-4fee-b602-35df5e399fbd",
   "metadata": {},
   "outputs": [
    {
     "name": "stdout",
     "output_type": "stream",
     "text": [
      "The total number of categories in the food dataset are 101\n",
      "The total number of images in the dataset are 101000\n"
     ]
    }
   ],
   "source": [
    "print(f\"The total number of categories in the food dataset are {len(count_images_subfolders.keys())}\")\n",
    "print(f\"The total number of images in the dataset are {sum(count_images_subfolders.values())}\")"
   ]
  },
  {
   "cell_type": "markdown",
   "id": "27a2385d-8a25-48e3-8d97-075465d89494",
   "metadata": {},
   "source": [
    "It looks like we have a total of 101 classes and the dataset is balanced with 1000 images belonging to each class. This means that we do not have to worry about an imbalanced dataset which will rule out the bias which comes from the dataset being unbalanced"
   ]
  },
  {
   "cell_type": "code",
   "execution_count": 86,
   "id": "84467281-f02b-4242-9bed-77e27cfb11dd",
   "metadata": {},
   "outputs": [],
   "source": [
    "def analyze_random_images(image_folder):\n",
    "    random_image_stats = []\n",
    "\n",
    "    for subfolder in os.listdir(image_folder):\n",
    "        subfolder_path = os.path.join(image_folder, subfolder)\n",
    "        \n",
    "        if os.path.isdir(subfolder_path):\n",
    "            images = os.listdir(subfolder_path)\n",
    "            if images:\n",
    "                random_image = random.choice(images)\n",
    "                image_path = os.path.join(subfolder_path, random_image)\n",
    "\n",
    "                # Open and analyze the image\n",
    "                with Image.open(image_path) as img:\n",
    "                    width, height = img.size\n",
    "                    image_array = np.array(img)\n",
    "                    avg_pixel_intensity = image_array.mean()\n",
    "\n",
    "                    random_image_stats.append((subfolder, random_image, (width, height), avg_pixel_intensity))\n",
    "\n",
    "    return random_image_stats\n"
   ]
  },
  {
   "cell_type": "code",
   "execution_count": 88,
   "id": "8d51aa81-88f3-4191-8764-82b3c0d6d852",
   "metadata": {},
   "outputs": [
    {
     "name": "stdout",
     "output_type": "stream",
     "text": [
      "Subfolder: apple_pie, Image: 3570483.jpg, Dimensions: (512, 512), Avg Pixel Intensity: 148.44\n",
      "Subfolder: baby_back_ribs, Image: 1998638.jpg, Dimensions: (512, 512), Avg Pixel Intensity: 102.46\n",
      "Subfolder: baklava, Image: 3452248.jpg, Dimensions: (512, 512), Avg Pixel Intensity: 147.65\n",
      "Subfolder: beef_carpaccio, Image: 331923.jpg, Dimensions: (382, 512), Avg Pixel Intensity: 113.55\n",
      "Subfolder: beef_tartare, Image: 3820477.jpg, Dimensions: (512, 512), Avg Pixel Intensity: 87.52\n",
      "Subfolder: beet_salad, Image: 3265440.jpg, Dimensions: (512, 512), Avg Pixel Intensity: 102.44\n",
      "Subfolder: beignets, Image: 1037244.jpg, Dimensions: (512, 509), Avg Pixel Intensity: 98.15\n",
      "Subfolder: bibimbap, Image: 574280.jpg, Dimensions: (512, 509), Avg Pixel Intensity: 76.78\n",
      "Subfolder: bread_pudding, Image: 3704457.jpg, Dimensions: (512, 512), Avg Pixel Intensity: 143.38\n",
      "Subfolder: breakfast_burrito, Image: 1986331.jpg, Dimensions: (512, 512), Avg Pixel Intensity: 94.32\n",
      "Subfolder: bruschetta, Image: 703913.jpg, Dimensions: (512, 512), Avg Pixel Intensity: 126.37\n",
      "Subfolder: caesar_salad, Image: 1617779.jpg, Dimensions: (512, 512), Avg Pixel Intensity: 130.83\n",
      "Subfolder: cannoli, Image: 247291.jpg, Dimensions: (384, 512), Avg Pixel Intensity: 99.79\n",
      "Subfolder: caprese_salad, Image: 1890757.jpg, Dimensions: (512, 512), Avg Pixel Intensity: 120.47\n",
      "Subfolder: carrot_cake, Image: 1381243.jpg, Dimensions: (384, 512), Avg Pixel Intensity: 103.80\n",
      "Subfolder: ceviche, Image: 552470.jpg, Dimensions: (512, 512), Avg Pixel Intensity: 92.86\n",
      "Subfolder: cheesecake, Image: 2454710.jpg, Dimensions: (512, 512), Avg Pixel Intensity: 120.39\n",
      "Subfolder: cheese_plate, Image: 1280006.jpg, Dimensions: (512, 512), Avg Pixel Intensity: 155.74\n",
      "Subfolder: chicken_curry, Image: 1218811.jpg, Dimensions: (512, 512), Avg Pixel Intensity: 83.29\n",
      "Subfolder: chicken_quesadilla, Image: 3343572.jpg, Dimensions: (512, 512), Avg Pixel Intensity: 117.43\n",
      "Subfolder: chicken_wings, Image: 2311267.jpg, Dimensions: (512, 512), Avg Pixel Intensity: 105.88\n",
      "Subfolder: chocolate_cake, Image: 883828.jpg, Dimensions: (512, 342), Avg Pixel Intensity: 132.25\n",
      "Subfolder: chocolate_mousse, Image: 891547.jpg, Dimensions: (512, 512), Avg Pixel Intensity: 156.73\n",
      "Subfolder: churros, Image: 1966226.jpg, Dimensions: (512, 410), Avg Pixel Intensity: 103.78\n",
      "Subfolder: clam_chowder, Image: 2853558.jpg, Dimensions: (512, 512), Avg Pixel Intensity: 165.10\n",
      "Subfolder: club_sandwich, Image: 1683351.jpg, Dimensions: (512, 512), Avg Pixel Intensity: 100.75\n",
      "Subfolder: crab_cakes, Image: 64297.jpg, Dimensions: (512, 512), Avg Pixel Intensity: 110.56\n",
      "Subfolder: creme_brulee, Image: 2935716.jpg, Dimensions: (512, 384), Avg Pixel Intensity: 159.64\n",
      "Subfolder: croque_madame, Image: 3130845.jpg, Dimensions: (512, 512), Avg Pixel Intensity: 103.35\n",
      "Subfolder: cup_cakes, Image: 279945.jpg, Dimensions: (384, 512), Avg Pixel Intensity: 112.49\n",
      "Subfolder: deviled_eggs, Image: 2794197.jpg, Dimensions: (512, 512), Avg Pixel Intensity: 110.62\n",
      "Subfolder: donuts, Image: 2827347.jpg, Dimensions: (512, 512), Avg Pixel Intensity: 129.59\n",
      "Subfolder: dumplings, Image: 2006028.jpg, Dimensions: (384, 512), Avg Pixel Intensity: 105.45\n",
      "Subfolder: edamame, Image: 1557266.jpg, Dimensions: (384, 512), Avg Pixel Intensity: 85.98\n",
      "Subfolder: eggs_benedict, Image: 3513327.jpg, Dimensions: (512, 512), Avg Pixel Intensity: 97.23\n",
      "Subfolder: escargots, Image: 2015195.jpg, Dimensions: (512, 512), Avg Pixel Intensity: 110.90\n",
      "Subfolder: falafel, Image: 2361366.jpg, Dimensions: (512, 512), Avg Pixel Intensity: 128.32\n",
      "Subfolder: filet_mignon, Image: 3870396.jpg, Dimensions: (512, 343), Avg Pixel Intensity: 93.37\n",
      "Subfolder: fish_and_chips, Image: 3322515.jpg, Dimensions: (512, 512), Avg Pixel Intensity: 113.37\n",
      "Subfolder: foie_gras, Image: 2176843.jpg, Dimensions: (512, 512), Avg Pixel Intensity: 152.94\n",
      "Subfolder: french_fries, Image: 575247.jpg, Dimensions: (512, 384), Avg Pixel Intensity: 109.02\n",
      "Subfolder: french_onion_soup, Image: 2425721.jpg, Dimensions: (512, 512), Avg Pixel Intensity: 124.73\n",
      "Subfolder: french_toast, Image: 94694.jpg, Dimensions: (512, 383), Avg Pixel Intensity: 92.76\n",
      "Subfolder: fried_calamari, Image: 965123.jpg, Dimensions: (512, 512), Avg Pixel Intensity: 111.50\n",
      "Subfolder: fried_rice, Image: 1087868.jpg, Dimensions: (512, 512), Avg Pixel Intensity: 80.72\n",
      "Subfolder: frozen_yogurt, Image: 2540007.jpg, Dimensions: (512, 512), Avg Pixel Intensity: 110.17\n",
      "Subfolder: garlic_bread, Image: 3439772.jpg, Dimensions: (512, 512), Avg Pixel Intensity: 141.59\n",
      "Subfolder: gnocchi, Image: 811528.jpg, Dimensions: (512, 512), Avg Pixel Intensity: 51.90\n",
      "Subfolder: greek_salad, Image: 1816781.jpg, Dimensions: (426, 512), Avg Pixel Intensity: 153.76\n",
      "Subfolder: grilled_cheese_sandwich, Image: 3758969.jpg, Dimensions: (512, 512), Avg Pixel Intensity: 125.57\n",
      "Subfolder: grilled_salmon, Image: 3320596.jpg, Dimensions: (512, 512), Avg Pixel Intensity: 122.44\n",
      "Subfolder: guacamole, Image: 694024.jpg, Dimensions: (512, 512), Avg Pixel Intensity: 89.29\n",
      "Subfolder: gyoza, Image: 1383874.jpg, Dimensions: (512, 340), Avg Pixel Intensity: 90.15\n",
      "Subfolder: hamburger, Image: 166940.jpg, Dimensions: (343, 512), Avg Pixel Intensity: 92.28\n",
      "Subfolder: hot_and_sour_soup, Image: 557591.jpg, Dimensions: (512, 512), Avg Pixel Intensity: 106.16\n",
      "Subfolder: hot_dog, Image: 1046526.jpg, Dimensions: (512, 512), Avg Pixel Intensity: 110.73\n",
      "Subfolder: huevos_rancheros, Image: 1475753.jpg, Dimensions: (512, 384), Avg Pixel Intensity: 109.43\n",
      "Subfolder: hummus, Image: 3434058.jpg, Dimensions: (512, 384), Avg Pixel Intensity: 107.76\n",
      "Subfolder: ice_cream, Image: 2473149.jpg, Dimensions: (512, 512), Avg Pixel Intensity: 102.41\n",
      "Subfolder: lasagna, Image: 2457126.jpg, Dimensions: (512, 512), Avg Pixel Intensity: 104.33\n",
      "Subfolder: lobster_bisque, Image: 1113024.jpg, Dimensions: (512, 512), Avg Pixel Intensity: 91.89\n",
      "Subfolder: lobster_roll_sandwich, Image: 594956.jpg, Dimensions: (511, 512), Avg Pixel Intensity: 133.01\n",
      "Subfolder: macaroni_and_cheese, Image: 785014.jpg, Dimensions: (512, 384), Avg Pixel Intensity: 109.45\n",
      "Subfolder: macarons, Image: 2546641.jpg, Dimensions: (512, 512), Avg Pixel Intensity: 55.64\n",
      "Subfolder: miso_soup, Image: 2991755.jpg, Dimensions: (512, 512), Avg Pixel Intensity: 101.69\n",
      "Subfolder: mussels, Image: 3156654.jpg, Dimensions: (512, 512), Avg Pixel Intensity: 105.85\n",
      "Subfolder: nachos, Image: 2803836.jpg, Dimensions: (512, 512), Avg Pixel Intensity: 133.45\n",
      "Subfolder: omelette, Image: 2679598.jpg, Dimensions: (512, 512), Avg Pixel Intensity: 98.96\n",
      "Subfolder: onion_rings, Image: 2350117.jpg, Dimensions: (512, 384), Avg Pixel Intensity: 110.18\n",
      "Subfolder: oysters, Image: 2399588.jpg, Dimensions: (512, 512), Avg Pixel Intensity: 131.79\n",
      "Subfolder: pad_thai, Image: 3529126.jpg, Dimensions: (512, 512), Avg Pixel Intensity: 132.69\n",
      "Subfolder: paella, Image: 2034233.jpg, Dimensions: (512, 512), Avg Pixel Intensity: 86.07\n",
      "Subfolder: pancakes, Image: 1365920.jpg, Dimensions: (512, 384), Avg Pixel Intensity: 109.34\n",
      "Subfolder: panna_cotta, Image: 346904.jpg, Dimensions: (384, 512), Avg Pixel Intensity: 110.88\n",
      "Subfolder: peking_duck, Image: 1943162.jpg, Dimensions: (512, 512), Avg Pixel Intensity: 102.96\n",
      "Subfolder: pho, Image: 2801033.jpg, Dimensions: (512, 512), Avg Pixel Intensity: 82.12\n",
      "Subfolder: pizza, Image: 1055065.jpg, Dimensions: (512, 384), Avg Pixel Intensity: 100.98\n",
      "Subfolder: pork_chop, Image: 3287100.jpg, Dimensions: (512, 512), Avg Pixel Intensity: 102.82\n",
      "Subfolder: poutine, Image: 3076027.jpg, Dimensions: (512, 512), Avg Pixel Intensity: 117.65\n",
      "Subfolder: prime_rib, Image: 3371644.jpg, Dimensions: (512, 512), Avg Pixel Intensity: 137.48\n",
      "Subfolder: pulled_pork_sandwich, Image: 3185934.jpg, Dimensions: (512, 512), Avg Pixel Intensity: 145.00\n",
      "Subfolder: ramen, Image: 3102994.jpg, Dimensions: (512, 512), Avg Pixel Intensity: 102.57\n",
      "Subfolder: ravioli, Image: 2937989.jpg, Dimensions: (512, 384), Avg Pixel Intensity: 169.60\n",
      "Subfolder: red_velvet_cake, Image: 472093.jpg, Dimensions: (512, 512), Avg Pixel Intensity: 109.77\n",
      "Subfolder: risotto, Image: 328110.jpg, Dimensions: (512, 384), Avg Pixel Intensity: 99.54\n",
      "Subfolder: samosa, Image: 2771717.jpg, Dimensions: (512, 384), Avg Pixel Intensity: 90.20\n",
      "Subfolder: sashimi, Image: 1186015.jpg, Dimensions: (512, 512), Avg Pixel Intensity: 100.21\n",
      "Subfolder: scallops, Image: 376520.jpg, Dimensions: (512, 384), Avg Pixel Intensity: 136.05\n",
      "Subfolder: seaweed_salad, Image: 1263074.jpg, Dimensions: (512, 512), Avg Pixel Intensity: 82.37\n",
      "Subfolder: shrimp_and_grits, Image: 1781719.jpg, Dimensions: (512, 512), Avg Pixel Intensity: 119.63\n",
      "Subfolder: spaghetti_bolognese, Image: 2188230.jpg, Dimensions: (512, 512), Avg Pixel Intensity: 87.93\n",
      "Subfolder: spaghetti_carbonara, Image: 3043834.jpg, Dimensions: (512, 512), Avg Pixel Intensity: 177.58\n",
      "Subfolder: spring_rolls, Image: 1038170.jpg, Dimensions: (512, 512), Avg Pixel Intensity: 95.11\n",
      "Subfolder: steak, Image: 644777.jpg, Dimensions: (512, 512), Avg Pixel Intensity: 149.57\n",
      "Subfolder: strawberry_shortcake, Image: 635088.jpg, Dimensions: (512, 512), Avg Pixel Intensity: 157.75\n",
      "Subfolder: sushi, Image: 274744.jpg, Dimensions: (512, 384), Avg Pixel Intensity: 145.46\n",
      "Subfolder: tacos, Image: 374449.jpg, Dimensions: (382, 512), Avg Pixel Intensity: 93.20\n",
      "Subfolder: takoyaki, Image: 3102069.jpg, Dimensions: (512, 384), Avg Pixel Intensity: 119.34\n",
      "Subfolder: tiramisu, Image: 3279519.jpg, Dimensions: (512, 512), Avg Pixel Intensity: 136.64\n",
      "Subfolder: tuna_tartare, Image: 3856356.jpg, Dimensions: (512, 512), Avg Pixel Intensity: 98.64\n",
      "Subfolder: waffles, Image: 1438397.jpg, Dimensions: (512, 512), Avg Pixel Intensity: 148.27\n"
     ]
    }
   ],
   "source": [
    "image_folder = \"./data/Food\"\n",
    "random_image_stats = analyze_random_images(image_folder)\n",
    "\n",
    "for stat in random_image_stats:\n",
    "    print(f\"Subfolder: {stat[0]}, Image: {stat[1]}, Dimensions: {stat[2]}, Avg Pixel Intensity: {stat[3]:.2f}\")"
   ]
  },
  {
   "cell_type": "code",
   "execution_count": 90,
   "id": "2378fd6e-3c7b-49d3-843a-eca9500bc08a",
   "metadata": {},
   "outputs": [],
   "source": [
    "# using data from random_image_stats to plot the pixel intensities and dimentions (average)\n",
    "\n",
    "widths = []\n",
    "heights = []\n",
    "avg_pixel_intensities = []\n",
    "\n",
    "for _, _, (width, height), avg_intensity in random_image_stats:\n",
    "    widths.append(width)\n",
    "    heights.append(height)\n",
    "    avg_pixel_intensities.append(avg_intensity)"
   ]
  },
  {
   "cell_type": "code",
   "execution_count": 91,
   "id": "f66e30fd-cf63-48e3-851c-6a7291664327",
   "metadata": {},
   "outputs": [
    {
     "data": {
      "image/png": "[encoded data removed]",
      "text/plain": [
       "<Figure size 1000x600 with 1 Axes>"
      ]
     },
     "metadata": {},
     "output_type": "display_data"
    }
   ],
   "source": [
    "plt.figure(figsize=(10, 6))\n",
    "plt.hist(avg_pixel_intensities, bins=30, color='blue', alpha=0.7)\n",
    "plt.title('Histogram of Average Pixel Intensities')\n",
    "plt.xlabel('Average Pixel Intensity')\n",
    "plt.ylabel('Frequency')\n",
    "plt.show()"
   ]
  },
  {
   "cell_type": "code",
   "execution_count": 92,
   "id": "dd760fa2-7982-4654-af39-f294b9863a8a",
   "metadata": {},
   "outputs": [
    {
     "data": {
      "image/png": "[encoded data removed]",
      "text/plain": [
       "<Figure size 1000x600 with 1 Axes>"
      ]
     },
     "metadata": {},
     "output_type": "display_data"
    }
   ],
   "source": [
    "plt.figure(figsize=(10, 6))\n",
    "plt.scatter(widths, heights, alpha=0.7)\n",
    "plt.title('Scatter Plot of Image Dimensions')\n",
    "plt.xlabel('Width')\n",
    "plt.ylabel('Height')\n",
    "plt.show()"
   ]
  },
  {
   "cell_type": "code",
   "execution_count": 93,
   "id": "0221b04b-2151-418f-90a3-6c8c90b06ce5",
   "metadata": {},
   "outputs": [
    {
     "ename": "TypeError",
     "evalue": "analyze_random_images() got an unexpected keyword argument 'total_images'",
     "output_type": "error",
     "traceback": [
      "\u001b[0;31m---------------------------------------------------------------------------\u001b[0m",
      "\u001b[0;31mTypeError\u001b[0m                                 Traceback (most recent call last)",
      "Cell \u001b[0;32mIn[93], line 22\u001b[0m\n\u001b[1;32m     19\u001b[0m     plt\u001b[38;5;241m.\u001b[39mshow()\n\u001b[1;32m     21\u001b[0m \u001b[38;5;66;03m# Usage\u001b[39;00m\n\u001b[0;32m---> 22\u001b[0m random_image_stats \u001b[38;5;241m=\u001b[39m \u001b[43manalyze_random_images\u001b[49m\u001b[43m(\u001b[49m\u001b[38;5;124;43m'\u001b[39;49m\u001b[38;5;124;43m./data/Food\u001b[39;49m\u001b[38;5;124;43m'\u001b[39;49m\u001b[43m,\u001b[49m\u001b[43m \u001b[49m\u001b[43mtotal_images\u001b[49m\u001b[38;5;241;43m=\u001b[39;49m\u001b[38;5;241;43m10\u001b[39;49m\u001b[43m)\u001b[49m\n\u001b[1;32m     23\u001b[0m plot_sample_images(random_image_stats, \u001b[38;5;124m'\u001b[39m\u001b[38;5;124m./data/Food\u001b[39m\u001b[38;5;124m'\u001b[39m)\n",
      "\u001b[0;31mTypeError\u001b[0m: analyze_random_images() got an unexpected keyword argument 'total_images'"
     ]
    }
   ],
   "source": []
  },
  {
   "cell_type": "markdown",
   "id": "d9789018-8621-4101-b376-fbebcf3fdc8c",
   "metadata": {},
   "source": [
    "Since our dataset comes with a train and test .txt files, we will go ahead and create these folders to split our data set "
   ]
  },
  {
   "cell_type": "code",
   "execution_count": 44,
   "id": "e3487c35-6c9b-4931-8eb6-68b3a82a10b7",
   "metadata": {},
   "outputs": [],
   "source": [
    "# Function that creates subfolders in the base pth if they dont already exist:\n",
    "\n",
    "def create_subdirectories(base_path, subdirs):\n",
    "    for dir in subdirs:\n",
    "        path = os.path.join(base_path, dir)\n",
    "        if not os.path.exists(path):\n",
    "            os.makedirs(path)\n",
    "\n",
    "\n"
   ]
  },
  {
   "cell_type": "code",
   "execution_count": 66,
   "id": "f5fa3846-66d8-40cf-960c-0299bce7dc20",
   "metadata": {},
   "outputs": [],
   "source": [
    "# function to process the .txt files which reads each line from the file and splits it into subfolder and file name, then copies the file from the source to the destination folder.\n",
    "\n",
    "def process_file_list(file_path, source_base_folder, destination_base_folder, file_extension='.jpg'):\n",
    "    with open(file_path, 'r') as file:\n",
    "        for line in file:\n",
    "            subfolder, file_name = line.strip().split('/')\n",
    "            file_name_with_extension = file_name + file_extension  # Append the file extension\n",
    "            source_path = os.path.join(source_base_folder, subfolder, file_name_with_extension)\n",
    "            destination_path = os.path.join(destination_base_folder, subfolder)\n",
    "\n",
    "            if not os.path.exists(destination_path):\n",
    "                os.makedirs(destination_path)\n",
    "\n",
    "            shutil.copy(source_path, os.path.join(destination_path, file_name_with_extension))\n",
    "\n"
   ]
  },
  {
   "cell_type": "code",
   "execution_count": 52,
   "id": "da8366a8-d604-4274-8f55-d09b74a9697b",
   "metadata": {},
   "outputs": [],
   "source": [
    "# data base path\n",
    "data_base_path = \"./data\"\n"
   ]
  },
  {
   "cell_type": "code",
   "execution_count": 62,
   "id": "89691f3f-07d4-45c4-8f8f-c03c98c717cf",
   "metadata": {},
   "outputs": [],
   "source": [
    "# food_base_path = os.path.join(data_base_path, 'Food')\n",
    "train_path = os.path.join(data_base_path, 'train')\n",
    "test_path = os.path.join(data_base_path, 'test')"
   ]
  },
  {
   "cell_type": "code",
   "execution_count": 54,
   "id": "7ca2fe7d-02ec-475b-868d-4923fa6b80c7",
   "metadata": {},
   "outputs": [],
   "source": [
    "# Create subdirectories in train and test folders\n",
    "create_subdirectories(train_path, subfolders)\n",
    "create_subdirectories(test_path, subfolders)"
   ]
  },
  {
   "cell_type": "code",
   "execution_count": 63,
   "id": "46de14eb-7865-4961-aa3d-0e21d3a0859e",
   "metadata": {},
   "outputs": [
    {
     "name": "stdout",
     "output_type": "stream",
     "text": [
      "Current Working Directory: /mnt/c/Users/Mohsi/school/fall2023/Intro to Neural Networks/Final Project/FoodClassifierAI-Food-Identifier\n"
     ]
    }
   ],
   "source": [
    "# Lets, make sure that our \"train.txt\" and \"test.txt\" are in the same working directory. We can find our current working directoey by doing the following and move the these files here\n",
    "print(\"Current Working Directory:\", os.getcwd())"
   ]
  },
  {
   "cell_type": "code",
   "execution_count": 67,
   "id": "df671f7c-e640-4dce-b460-6cb1eb6fbe6f",
   "metadata": {},
   "outputs": [],
   "source": [
    "#Process the train.txt and test.txt files\n",
    "process_file_list('train.txt', food_base_path, train_path)\n",
    "process_file_list('test.txt', food_base_path, test_path)\n"
   ]
  },
  {
   "cell_type": "markdown",
   "id": "06ab6fd2-f853-4d2a-9edf-43738bc391f8",
   "metadata": {},
   "source": [
    "Lets compare the number of images in the train vs test to analyze the split % since we arent aware of this"
   ]
  },
  {
   "cell_type": "code",
   "execution_count": 70,
   "id": "a8af6ed9-0aff-47ed-9afc-ad84eca6be0c",
   "metadata": {},
   "outputs": [
    {
     "data": {
      "text/plain": [
       "{'apple_pie': 750,\n",
       " 'baby_back_ribs': 750,\n",
       " 'baklava': 750,\n",
       " 'beef_carpaccio': 750,\n",
       " 'beef_tartare': 750,\n",
       " 'beet_salad': 750,\n",
       " 'beignets': 750,\n",
       " 'bibimbap': 750,\n",
       " 'bread_pudding': 750,\n",
       " 'breakfast_burrito': 750,\n",
       " 'bruschetta': 750,\n",
       " 'caesar_salad': 750,\n",
       " 'cannoli': 750,\n",
       " 'caprese_salad': 750,\n",
       " 'carrot_cake': 750,\n",
       " 'ceviche': 750,\n",
       " 'cheesecake': 750,\n",
       " 'cheese_plate': 750,\n",
       " 'chicken_curry': 750,\n",
       " 'chicken_quesadilla': 750,\n",
       " 'chicken_wings': 750,\n",
       " 'chocolate_cake': 750,\n",
       " 'chocolate_mousse': 750,\n",
       " 'churros': 750,\n",
       " 'clam_chowder': 750,\n",
       " 'club_sandwich': 750,\n",
       " 'crab_cakes': 750,\n",
       " 'creme_brulee': 750,\n",
       " 'croque_madame': 750,\n",
       " 'cup_cakes': 750,\n",
       " 'deviled_eggs': 750,\n",
       " 'donuts': 750,\n",
       " 'dumplings': 750,\n",
       " 'edamame': 750,\n",
       " 'eggs_benedict': 750,\n",
       " 'escargots': 750,\n",
       " 'falafel': 750,\n",
       " 'filet_mignon': 750,\n",
       " 'fish_and_chips': 750,\n",
       " 'foie_gras': 750,\n",
       " 'french_fries': 750,\n",
       " 'french_onion_soup': 750,\n",
       " 'french_toast': 750,\n",
       " 'fried_calamari': 750,\n",
       " 'fried_rice': 750,\n",
       " 'frozen_yogurt': 750,\n",
       " 'garlic_bread': 750,\n",
       " 'gnocchi': 750,\n",
       " 'greek_salad': 750,\n",
       " 'grilled_cheese_sandwich': 750,\n",
       " 'grilled_salmon': 750,\n",
       " 'guacamole': 750,\n",
       " 'gyoza': 750,\n",
       " 'hamburger': 750,\n",
       " 'hot_and_sour_soup': 750,\n",
       " 'hot_dog': 750,\n",
       " 'huevos_rancheros': 750,\n",
       " 'hummus': 750,\n",
       " 'ice_cream': 750,\n",
       " 'lasagna': 750,\n",
       " 'lobster_bisque': 750,\n",
       " 'lobster_roll_sandwich': 750,\n",
       " 'macaroni_and_cheese': 750,\n",
       " 'macarons': 750,\n",
       " 'miso_soup': 750,\n",
       " 'mussels': 750,\n",
       " 'nachos': 750,\n",
       " 'omelette': 750,\n",
       " 'onion_rings': 750,\n",
       " 'oysters': 750,\n",
       " 'pad_thai': 750,\n",
       " 'paella': 750,\n",
       " 'pancakes': 750,\n",
       " 'panna_cotta': 750,\n",
       " 'peking_duck': 750,\n",
       " 'pho': 750,\n",
       " 'pizza': 750,\n",
       " 'pork_chop': 750,\n",
       " 'poutine': 750,\n",
       " 'prime_rib': 750,\n",
       " 'pulled_pork_sandwich': 750,\n",
       " 'ramen': 750,\n",
       " 'ravioli': 750,\n",
       " 'red_velvet_cake': 750,\n",
       " 'risotto': 750,\n",
       " 'samosa': 750,\n",
       " 'sashimi': 750,\n",
       " 'scallops': 750,\n",
       " 'seaweed_salad': 750,\n",
       " 'shrimp_and_grits': 750,\n",
       " 'spaghetti_bolognese': 750,\n",
       " 'spaghetti_carbonara': 750,\n",
       " 'spring_rolls': 750,\n",
       " 'steak': 750,\n",
       " 'strawberry_shortcake': 750,\n",
       " 'sushi': 750,\n",
       " 'tacos': 750,\n",
       " 'takoyaki': 750,\n",
       " 'tiramisu': 750,\n",
       " 'tuna_tartare': 750,\n",
       " 'waffles': 750}"
      ]
     },
     "execution_count": 70,
     "metadata": {},
     "output_type": "execute_result"
    }
   ],
   "source": [
    "# Counting the training images\n",
    "\n",
    "train_count_images_subfolders = {category: len(os.listdir(f'./data/train/{category}')) for category in subfolders}\n",
    "train_count_images_subfolders"
   ]
  },
  {
   "cell_type": "code",
   "execution_count": 78,
   "id": "4c6ce21b-adaf-4d79-8c0e-8081339a7d31",
   "metadata": {},
   "outputs": [
    {
     "data": {
      "text/plain": [
       "{'apple_pie': 250,\n",
       " 'baby_back_ribs': 250,\n",
       " 'baklava': 250,\n",
       " 'beef_carpaccio': 250,\n",
       " 'beef_tartare': 250,\n",
       " 'beet_salad': 250,\n",
       " 'beignets': 250,\n",
       " 'bibimbap': 250,\n",
       " 'bread_pudding': 250,\n",
       " 'breakfast_burrito': 250,\n",
       " 'bruschetta': 250,\n",
       " 'caesar_salad': 250,\n",
       " 'cannoli': 250,\n",
       " 'caprese_salad': 250,\n",
       " 'carrot_cake': 250,\n",
       " 'ceviche': 250,\n",
       " 'cheesecake': 250,\n",
       " 'cheese_plate': 250,\n",
       " 'chicken_curry': 250,\n",
       " 'chicken_quesadilla': 250,\n",
       " 'chicken_wings': 250,\n",
       " 'chocolate_cake': 250,\n",
       " 'chocolate_mousse': 250,\n",
       " 'churros': 250,\n",
       " 'clam_chowder': 250,\n",
       " 'club_sandwich': 250,\n",
       " 'crab_cakes': 250,\n",
       " 'creme_brulee': 250,\n",
       " 'croque_madame': 250,\n",
       " 'cup_cakes': 250,\n",
       " 'deviled_eggs': 250,\n",
       " 'donuts': 250,\n",
       " 'dumplings': 250,\n",
       " 'edamame': 250,\n",
       " 'eggs_benedict': 250,\n",
       " 'escargots': 250,\n",
       " 'falafel': 250,\n",
       " 'filet_mignon': 250,\n",
       " 'fish_and_chips': 250,\n",
       " 'foie_gras': 250,\n",
       " 'french_fries': 250,\n",
       " 'french_onion_soup': 250,\n",
       " 'french_toast': 250,\n",
       " 'fried_calamari': 250,\n",
       " 'fried_rice': 250,\n",
       " 'frozen_yogurt': 250,\n",
       " 'garlic_bread': 250,\n",
       " 'gnocchi': 250,\n",
       " 'greek_salad': 250,\n",
       " 'grilled_cheese_sandwich': 250,\n",
       " 'grilled_salmon': 250,\n",
       " 'guacamole': 250,\n",
       " 'gyoza': 250,\n",
       " 'hamburger': 250,\n",
       " 'hot_and_sour_soup': 250,\n",
       " 'hot_dog': 250,\n",
       " 'huevos_rancheros': 250,\n",
       " 'hummus': 250,\n",
       " 'ice_cream': 250,\n",
       " 'lasagna': 250,\n",
       " 'lobster_bisque': 250,\n",
       " 'lobster_roll_sandwich': 250,\n",
       " 'macaroni_and_cheese': 250,\n",
       " 'macarons': 250,\n",
       " 'miso_soup': 250,\n",
       " 'mussels': 250,\n",
       " 'nachos': 250,\n",
       " 'omelette': 250,\n",
       " 'onion_rings': 250,\n",
       " 'oysters': 250,\n",
       " 'pad_thai': 250,\n",
       " 'paella': 250,\n",
       " 'pancakes': 250,\n",
       " 'panna_cotta': 250,\n",
       " 'peking_duck': 250,\n",
       " 'pho': 250,\n",
       " 'pizza': 250,\n",
       " 'pork_chop': 250,\n",
       " 'poutine': 250,\n",
       " 'prime_rib': 250,\n",
       " 'pulled_pork_sandwich': 250,\n",
       " 'ramen': 250,\n",
       " 'ravioli': 250,\n",
       " 'red_velvet_cake': 250,\n",
       " 'risotto': 250,\n",
       " 'samosa': 250,\n",
       " 'sashimi': 250,\n",
       " 'scallops': 250,\n",
       " 'seaweed_salad': 250,\n",
       " 'shrimp_and_grits': 250,\n",
       " 'spaghetti_bolognese': 250,\n",
       " 'spaghetti_carbonara': 250,\n",
       " 'spring_rolls': 250,\n",
       " 'steak': 250,\n",
       " 'strawberry_shortcake': 250,\n",
       " 'sushi': 250,\n",
       " 'tacos': 250,\n",
       " 'takoyaki': 250,\n",
       " 'tiramisu': 250,\n",
       " 'tuna_tartare': 250,\n",
       " 'waffles': 250}"
      ]
     },
     "execution_count": 78,
     "metadata": {},
     "output_type": "execute_result"
    }
   ],
   "source": [
    "test_count_images_subfolders = {category: len(os.listdir(f'./data/test/{category}')) for category in subfolders}\n",
    "test_count_images_subfolders"
   ]
  },
  {
   "cell_type": "code",
   "execution_count": 83,
   "id": "94d06adc-800f-4e1f-abc5-ad4f8aa6ae09",
   "metadata": {},
   "outputs": [
    {
     "name": "stdout",
     "output_type": "stream",
     "text": [
      "Train:  75.00%\n",
      "Test:  25.00%\n"
     ]
    }
   ],
   "source": [
    "train_count = sum(train_count_images_subfolders.values())\n",
    "test_count = sum(test_count_images_subfolders.values())\n",
    "total_images = train_count + test_count\n",
    "\n",
    "print(f\"Train: {train_count/total_images * 100 : .2f}%\")\n",
    "print(f\"Test: {test_count/total_images * 100 : .2f}%\")"
   ]
  },
  {
   "cell_type": "code",
   "execution_count": null,
   "id": "cd65f81a-384b-451d-af3c-801bfd0e5111",
   "metadata": {},
   "outputs": [],
   "source": []
  },
  {
   "cell_type": "code",
   "execution_count": null,
   "id": "b46828f2-32fa-4d25-aef9-a12d0b1d0737",
   "metadata": {},
   "outputs": [],
   "source": []
  },
  {
   "cell_type": "code",
   "execution_count": null,
   "id": "07f16f03-89a6-43c3-9bcb-13cc86c01a52",
   "metadata": {},
   "outputs": [],
   "source": []
  }
 ],
 "metadata": {
  "kernelspec": {
   "display_name": "Python 3 (ipykernel)",
   "language": "python",
   "name": "python3"
  },
  "language_info": {
   "codemirror_mode": {
    "name": "ipython",
    "version": 3
   },
   "file_extension": ".py",
   "mimetype": "text/x-python",
   "name": "python",
   "nbconvert_exporter": "python",
   "pygments_lexer": "ipython3",
   "version": "3.10.13"
  }
 },
 "nbformat": 4,
 "nbformat_minor": 5
}
