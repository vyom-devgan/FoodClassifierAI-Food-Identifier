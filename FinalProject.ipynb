version https://git-lfs.github.com/spec/v1
oid sha256:2abaf77f2dc07e11b8ca15f43926871d5d0f09ad5aa55533a873792484a1f6a2
size 3869044
