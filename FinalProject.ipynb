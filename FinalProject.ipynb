version https://git-lfs.github.com/spec/v1
oid sha256:7c01bc0f0fe90b5837e67c3c2161ce938005efbdb967c1d4f8fd8c681f90b71a
size 3616163
