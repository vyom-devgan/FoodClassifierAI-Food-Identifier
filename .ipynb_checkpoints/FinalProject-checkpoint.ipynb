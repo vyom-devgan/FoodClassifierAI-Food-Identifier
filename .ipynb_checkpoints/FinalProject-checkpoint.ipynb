{
 "cells": [
  {
   "cell_type": "code",
   "execution_count": 1,
   "id": "e590c501-e501-4eed-b3cb-740f7744f4a3",
   "metadata": {},
   "outputs": [
    {
     "name": "stderr",
     "output_type": "stream",
     "text": [
      "2023-12-11 14:51:38.174568: I tensorflow/core/platform/cpu_feature_guard.cc:193] This TensorFlow binary is optimized with oneAPI Deep Neural Network Library (oneDNN) to use the following CPU instructions in performance-critical operations:  AVX2 FMA\n",
      "To enable them in other operations, rebuild TensorFlow with the appropriate compiler flags.\n",
      "2023-12-11 14:51:39.045121: W tensorflow/compiler/xla/stream_executor/platform/default/dso_loader.cc:64] Could not load dynamic library 'libcudart.so.11.0'; dlerror: libcudart.so.11.0: cannot open shared object file: No such file or directory\n",
      "2023-12-11 14:51:39.045186: I tensorflow/compiler/xla/stream_executor/cuda/cudart_stub.cc:29] Ignore above cudart dlerror if you do not have a GPU set up on your machine.\n",
      "2023-12-11 14:51:41.332490: W tensorflow/compiler/xla/stream_executor/platform/default/dso_loader.cc:64] Could not load dynamic library 'libnvinfer.so.7'; dlerror: libnvinfer.so.7: cannot open shared object file: No such file or directory\n",
      "2023-12-11 14:51:41.332676: W tensorflow/compiler/xla/stream_executor/platform/default/dso_loader.cc:64] Could not load dynamic library 'libnvinfer_plugin.so.7'; dlerror: libnvinfer_plugin.so.7: cannot open shared object file: No such file or directory\n",
      "2023-12-11 14:51:41.332690: W tensorflow/compiler/tf2tensorrt/utils/py_utils.cc:38] TF-TRT Warning: Cannot dlopen some TensorRT libraries. If you would like to use Nvidia GPU with TensorRT, please make sure the missing libraries mentioned above are installed properly.\n"
     ]
    }
   ],
   "source": [
    "# import dependencies\n",
    "import tensorflow as tf\n",
    "import os\n",
    "from PIL import Image\n",
    "import numpy as np\n",
    "import random\n",
    "import matplotlib.pyplot as plt\n",
    "import shutil"
   ]
  },
  {
   "cell_type": "code",
   "execution_count": 2,
   "id": "4b1f44f7-8f02-4597-a433-c2cdaaf6ea26",
   "metadata": {},
   "outputs": [
    {
     "name": "stderr",
     "output_type": "stream",
     "text": [
      "2023-12-11 14:51:45.848533: E tensorflow/compiler/xla/stream_executor/cuda/cuda_driver.cc:267] failed call to cuInit: CUDA_ERROR_NO_DEVICE: no CUDA-capable device is detected\n",
      "2023-12-11 14:51:45.848622: I tensorflow/compiler/xla/stream_executor/cuda/cuda_diagnostics.cc:156] kernel driver does not appear to be running on this host (ubuntu): /proc/driver/nvidia/version does not exist\n"
     ]
    }
   ],
   "source": [
    "# Avoiding OOM errors by setting GPU memory Consumption Growth \n",
    "gpus = tf.config.experimental.list_physical_devices('GPU')\n",
    "for gpu in gpus:\n",
    "    tf.config.experimental.set_memory_growth(gpu, True)"
   ]
  },
  {
   "cell_type": "code",
   "execution_count": 3,
   "id": "33331468-d375-40d1-8a8d-4345ea3193c7",
   "metadata": {},
   "outputs": [
    {
     "data": {
      "text/plain": [
       "[]"
      ]
     },
     "execution_count": 3,
     "metadata": {},
     "output_type": "execute_result"
    }
   ],
   "source": [
    "# confirming that out workload is GPU accelerated\n",
    "tf.config.experimental.list_physical_devices('GPU')"
   ]
  },
  {
   "cell_type": "code",
   "execution_count": 4,
   "id": "3bdd20fb-7a38-4d3b-9aba-9edb86ac8578",
   "metadata": {},
   "outputs": [],
   "source": [
    "# Import the data\n",
    "# Base path t food dataset\n",
    "food_base_path = \"./data/Food\""
   ]
  },
  {
   "cell_type": "code",
   "execution_count": 5,
   "id": "02acdf33-9326-49f4-90f5-4f0004774eba",
   "metadata": {},
   "outputs": [
    {
     "data": {
      "text/plain": [
       "['beef_carpaccio',\n",
       " 'fried_rice',\n",
       " 'samosa',\n",
       " 'greek_salad',\n",
       " 'mussels',\n",
       " 'cup_cakes',\n",
       " 'fried_calamari',\n",
       " 'hot_and_sour_soup',\n",
       " 'pho',\n",
       " 'red_velvet_cake',\n",
       " 'donuts',\n",
       " 'pad_thai',\n",
       " 'waffles',\n",
       " 'bread_pudding',\n",
       " 'peking_duck',\n",
       " 'ceviche',\n",
       " 'seaweed_salad',\n",
       " 'panna_cotta',\n",
       " 'garlic_bread',\n",
       " 'french_fries',\n",
       " 'sashimi',\n",
       " 'cannoli',\n",
       " 'churros',\n",
       " 'risotto',\n",
       " 'beef_tartare',\n",
       " 'clam_chowder',\n",
       " 'nachos',\n",
       " 'club_sandwich',\n",
       " 'gyoza',\n",
       " 'onion_rings',\n",
       " 'lobster_bisque',\n",
       " 'filet_mignon',\n",
       " 'creme_brulee',\n",
       " 'falafel',\n",
       " 'cheese_plate',\n",
       " 'huevos_rancheros',\n",
       " 'lasagna',\n",
       " 'deviled_eggs',\n",
       " 'prime_rib',\n",
       " 'bibimbap',\n",
       " 'gnocchi',\n",
       " 'chicken_quesadilla',\n",
       " 'lobster_roll_sandwich',\n",
       " 'paella',\n",
       " 'foie_gras',\n",
       " 'spring_rolls',\n",
       " 'spaghetti_carbonara',\n",
       " 'tacos',\n",
       " 'chocolate_cake',\n",
       " 'beet_salad',\n",
       " 'grilled_cheese_sandwich',\n",
       " 'hummus',\n",
       " 'breakfast_burrito',\n",
       " 'beignets',\n",
       " 'grilled_salmon',\n",
       " 'french_onion_soup',\n",
       " 'escargots',\n",
       " 'chicken_wings',\n",
       " 'hamburger',\n",
       " 'french_toast',\n",
       " 'macarons',\n",
       " 'caprese_salad',\n",
       " 'carrot_cake',\n",
       " 'chocolate_mousse',\n",
       " 'guacamole',\n",
       " 'steak',\n",
       " 'dumplings',\n",
       " 'hot_dog',\n",
       " 'ice_cream',\n",
       " 'poutine',\n",
       " 'ramen',\n",
       " 'cheesecake',\n",
       " 'baklava',\n",
       " 'edamame',\n",
       " 'fish_and_chips',\n",
       " 'scallops',\n",
       " 'oysters',\n",
       " 'strawberry_shortcake',\n",
       " 'tuna_tartare',\n",
       " 'spaghetti_bolognese',\n",
       " 'baby_back_ribs',\n",
       " 'chicken_curry',\n",
       " 'apple_pie',\n",
       " 'miso_soup',\n",
       " 'macaroni_and_cheese',\n",
       " 'tiramisu',\n",
       " 'pulled_pork_sandwich',\n",
       " 'omelette',\n",
       " 'ravioli',\n",
       " 'sushi',\n",
       " 'shrimp_and_grits',\n",
       " 'frozen_yogurt',\n",
       " 'bruschetta',\n",
       " 'crab_cakes',\n",
       " 'eggs_benedict',\n",
       " 'takoyaki',\n",
       " 'caesar_salad',\n",
       " 'pork_chop',\n",
       " 'pizza',\n",
       " 'pancakes',\n",
       " 'croque_madame']"
      ]
     },
     "execution_count": 5,
     "metadata": {},
     "output_type": "execute_result"
    }
   ],
   "source": [
    "# printing the list of subdirectories excluding the txt files\n",
    "subfolders = [dir for dir in os.listdir(\"./data/Food\") if os.path.isdir(os.path.join(\"./data/Food\", dir))]\n",
    "subfolders"
   ]
  },
  {
   "cell_type": "code",
   "execution_count": 6,
   "id": "1c9d37b7-88cb-4d5b-bac1-e7eb9af3cfaa",
   "metadata": {},
   "outputs": [
    {
     "data": {
      "text/plain": [
       "{'beef_carpaccio': 1000,\n",
       " 'fried_rice': 1000,\n",
       " 'samosa': 1000,\n",
       " 'greek_salad': 1000,\n",
       " 'mussels': 1000,\n",
       " 'cup_cakes': 1000,\n",
       " 'fried_calamari': 1000,\n",
       " 'hot_and_sour_soup': 1000,\n",
       " 'pho': 1000,\n",
       " 'red_velvet_cake': 1000,\n",
       " 'donuts': 1000,\n",
       " 'pad_thai': 1000,\n",
       " 'waffles': 1000,\n",
       " 'bread_pudding': 1000,\n",
       " 'peking_duck': 1000,\n",
       " 'ceviche': 1000,\n",
       " 'seaweed_salad': 1000,\n",
       " 'panna_cotta': 1000,\n",
       " 'garlic_bread': 1000,\n",
       " 'french_fries': 1000,\n",
       " 'sashimi': 1000,\n",
       " 'cannoli': 1000,\n",
       " 'churros': 1000,\n",
       " 'risotto': 1000,\n",
       " 'beef_tartare': 1000,\n",
       " 'clam_chowder': 1000,\n",
       " 'nachos': 1000,\n",
       " 'club_sandwich': 1000,\n",
       " 'gyoza': 1000,\n",
       " 'onion_rings': 1000,\n",
       " 'lobster_bisque': 1000,\n",
       " 'filet_mignon': 1000,\n",
       " 'creme_brulee': 1000,\n",
       " 'falafel': 1000,\n",
       " 'cheese_plate': 1000,\n",
       " 'huevos_rancheros': 1000,\n",
       " 'lasagna': 1000,\n",
       " 'deviled_eggs': 1000,\n",
       " 'prime_rib': 1000,\n",
       " 'bibimbap': 1000,\n",
       " 'gnocchi': 1000,\n",
       " 'chicken_quesadilla': 1000,\n",
       " 'lobster_roll_sandwich': 1000,\n",
       " 'paella': 1000,\n",
       " 'foie_gras': 1000,\n",
       " 'spring_rolls': 1000,\n",
       " 'spaghetti_carbonara': 1000,\n",
       " 'tacos': 1000,\n",
       " 'chocolate_cake': 1000,\n",
       " 'beet_salad': 1000,\n",
       " 'grilled_cheese_sandwich': 1000,\n",
       " 'hummus': 1000,\n",
       " 'breakfast_burrito': 1000,\n",
       " 'beignets': 1000,\n",
       " 'grilled_salmon': 1000,\n",
       " 'french_onion_soup': 1000,\n",
       " 'escargots': 1000,\n",
       " 'chicken_wings': 1000,\n",
       " 'hamburger': 1000,\n",
       " 'french_toast': 1000,\n",
       " 'macarons': 1000,\n",
       " 'caprese_salad': 1000,\n",
       " 'carrot_cake': 1000,\n",
       " 'chocolate_mousse': 1000,\n",
       " 'guacamole': 1000,\n",
       " 'steak': 1000,\n",
       " 'dumplings': 1000,\n",
       " 'hot_dog': 1000,\n",
       " 'ice_cream': 1000,\n",
       " 'poutine': 1000,\n",
       " 'ramen': 1000,\n",
       " 'cheesecake': 1000,\n",
       " 'baklava': 1000,\n",
       " 'edamame': 1000,\n",
       " 'fish_and_chips': 1000,\n",
       " 'scallops': 1000,\n",
       " 'oysters': 1000,\n",
       " 'strawberry_shortcake': 1000,\n",
       " 'tuna_tartare': 1000,\n",
       " 'spaghetti_bolognese': 1000,\n",
       " 'baby_back_ribs': 1000,\n",
       " 'chicken_curry': 1000,\n",
       " 'apple_pie': 1000,\n",
       " 'miso_soup': 1000,\n",
       " 'macaroni_and_cheese': 1000,\n",
       " 'tiramisu': 1000,\n",
       " 'pulled_pork_sandwich': 1000,\n",
       " 'omelette': 1000,\n",
       " 'ravioli': 1000,\n",
       " 'sushi': 1000,\n",
       " 'shrimp_and_grits': 1000,\n",
       " 'frozen_yogurt': 1000,\n",
       " 'bruschetta': 1000,\n",
       " 'crab_cakes': 1000,\n",
       " 'eggs_benedict': 1000,\n",
       " 'takoyaki': 1000,\n",
       " 'caesar_salad': 1000,\n",
       " 'pork_chop': 1000,\n",
       " 'pizza': 1000,\n",
       " 'pancakes': 1000,\n",
       " 'croque_madame': 1000}"
      ]
     },
     "execution_count": 6,
     "metadata": {},
     "output_type": "execute_result"
    }
   ],
   "source": [
    "# Lets count the number of images in each subfolder:\n",
    "\n",
    "count_images_subfolders = {category: len(os.listdir(f'./data/Food/{category}')) for category in subfolders}\n",
    "count_images_subfolders\n"
   ]
  },
  {
   "cell_type": "code",
   "execution_count": 7,
   "id": "51a04293-9df0-4fee-b602-35df5e399fbd",
   "metadata": {},
   "outputs": [
    {
     "name": "stdout",
     "output_type": "stream",
     "text": [
      "The total number of categories in the food dataset are 101\n",
      "The total number of images in the dataset are 101000\n"
     ]
    }
   ],
   "source": [
    "print(f\"The total number of categories in the food dataset are {len(count_images_subfolders.keys())}\")\n",
    "print(f\"The total number of images in the dataset are {sum(count_images_subfolders.values())}\")"
   ]
  },
  {
   "cell_type": "markdown",
   "id": "27a2385d-8a25-48e3-8d97-075465d89494",
   "metadata": {},
   "source": [
    "It looks like we have a total of 101 classes and the dataset is balanced with 1000 images belonging to each class. This means that we do not have to worry about an imbalanced dataset which will rule out the bias which comes from the dataset being unbalanced"
   ]
  },
  {
   "cell_type": "code",
   "execution_count": 8,
   "id": "84467281-f02b-4242-9bed-77e27cfb11dd",
   "metadata": {},
   "outputs": [],
   "source": [
    "def analyze_random_images(image_folder):\n",
    "    random_image_stats = []\n",
    "\n",
    "    for subfolder in os.listdir(image_folder):\n",
    "        subfolder_path = os.path.join(image_folder, subfolder)\n",
    "        \n",
    "        if os.path.isdir(subfolder_path):\n",
    "            images = os.listdir(subfolder_path)\n",
    "            if images:\n",
    "                random_image = random.choice(images)\n",
    "                image_path = os.path.join(subfolder_path, random_image)\n",
    "\n",
    "                # Open and analyze the image\n",
    "                with Image.open(image_path) as img:\n",
    "                    width, height = img.size\n",
    "                    image_array = np.array(img)\n",
    "                    avg_pixel_intensity = image_array.mean()\n",
    "\n",
    "                    random_image_stats.append((subfolder, random_image, (width, height), avg_pixel_intensity))\n",
    "\n",
    "    return random_image_stats\n"
   ]
  },
  {
   "cell_type": "code",
   "execution_count": 9,
   "id": "8d51aa81-88f3-4191-8764-82b3c0d6d852",
   "metadata": {},
   "outputs": [
    {
     "name": "stdout",
     "output_type": "stream",
     "text": [
      "Subfolder: beef_carpaccio, Image: 2674712.jpg, Dimensions: (512, 512), Avg Pixel Intensity: 91.76\n",
      "Subfolder: fried_rice, Image: 15501.jpg, Dimensions: (512, 384), Avg Pixel Intensity: 115.70\n",
      "Subfolder: samosa, Image: 2279333.jpg, Dimensions: (512, 512), Avg Pixel Intensity: 99.81\n",
      "Subfolder: greek_salad, Image: 3687037.jpg, Dimensions: (512, 512), Avg Pixel Intensity: 117.71\n",
      "Subfolder: mussels, Image: 3025702.jpg, Dimensions: (512, 384), Avg Pixel Intensity: 103.23\n",
      "Subfolder: cup_cakes, Image: 1333317.jpg, Dimensions: (512, 512), Avg Pixel Intensity: 88.11\n",
      "Subfolder: fried_calamari, Image: 2581960.jpg, Dimensions: (443, 512), Avg Pixel Intensity: 74.03\n",
      "Subfolder: hot_and_sour_soup, Image: 1557701.jpg, Dimensions: (512, 512), Avg Pixel Intensity: 115.40\n",
      "Subfolder: pho, Image: 1487315.jpg, Dimensions: (512, 384), Avg Pixel Intensity: 106.52\n",
      "Subfolder: red_velvet_cake, Image: 190330.jpg, Dimensions: (512, 512), Avg Pixel Intensity: 77.47\n",
      "Subfolder: donuts, Image: 2832318.jpg, Dimensions: (512, 512), Avg Pixel Intensity: 120.85\n",
      "Subfolder: pad_thai, Image: 1238708.jpg, Dimensions: (512, 512), Avg Pixel Intensity: 134.84\n",
      "Subfolder: waffles, Image: 2086263.jpg, Dimensions: (512, 512), Avg Pixel Intensity: 122.58\n",
      "Subfolder: bread_pudding, Image: 447800.jpg, Dimensions: (381, 512), Avg Pixel Intensity: 103.13\n",
      "Subfolder: peking_duck, Image: 3309801.jpg, Dimensions: (512, 512), Avg Pixel Intensity: 68.46\n",
      "Subfolder: ceviche, Image: 3916910.jpg, Dimensions: (512, 512), Avg Pixel Intensity: 69.59\n",
      "Subfolder: seaweed_salad, Image: 709585.jpg, Dimensions: (512, 512), Avg Pixel Intensity: 35.64\n",
      "Subfolder: panna_cotta, Image: 1013000.jpg, Dimensions: (512, 384), Avg Pixel Intensity: 119.38\n",
      "Subfolder: garlic_bread, Image: 2275705.jpg, Dimensions: (512, 511), Avg Pixel Intensity: 165.55\n",
      "Subfolder: french_fries, Image: 2413615.jpg, Dimensions: (512, 512), Avg Pixel Intensity: 117.60\n",
      "Subfolder: sashimi, Image: 3523612.jpg, Dimensions: (512, 288), Avg Pixel Intensity: 121.73\n",
      "Subfolder: cannoli, Image: 2617297.jpg, Dimensions: (512, 512), Avg Pixel Intensity: 127.43\n",
      "Subfolder: churros, Image: 1109507.jpg, Dimensions: (512, 512), Avg Pixel Intensity: 120.88\n",
      "Subfolder: risotto, Image: 944109.jpg, Dimensions: (512, 512), Avg Pixel Intensity: 126.52\n",
      "Subfolder: beef_tartare, Image: 3200621.jpg, Dimensions: (512, 512), Avg Pixel Intensity: 153.98\n",
      "Subfolder: clam_chowder, Image: 1378531.jpg, Dimensions: (512, 512), Avg Pixel Intensity: 92.91\n",
      "Subfolder: nachos, Image: 1568961.jpg, Dimensions: (512, 288), Avg Pixel Intensity: 114.11\n",
      "Subfolder: club_sandwich, Image: 1544737.jpg, Dimensions: (512, 512), Avg Pixel Intensity: 123.14\n",
      "Subfolder: gyoza, Image: 1277049.jpg, Dimensions: (512, 384), Avg Pixel Intensity: 139.90\n",
      "Subfolder: onion_rings, Image: 2667660.jpg, Dimensions: (512, 512), Avg Pixel Intensity: 114.22\n",
      "Subfolder: lobster_bisque, Image: 2251248.jpg, Dimensions: (512, 512), Avg Pixel Intensity: 89.18\n",
      "Subfolder: filet_mignon, Image: 2238050.jpg, Dimensions: (512, 512), Avg Pixel Intensity: 100.50\n",
      "Subfolder: creme_brulee, Image: 609441.jpg, Dimensions: (512, 340), Avg Pixel Intensity: 195.17\n",
      "Subfolder: falafel, Image: 3518502.jpg, Dimensions: (512, 512), Avg Pixel Intensity: 126.34\n",
      "Subfolder: cheese_plate, Image: 2265128.jpg, Dimensions: (512, 512), Avg Pixel Intensity: 73.61\n",
      "Subfolder: huevos_rancheros, Image: 1274373.jpg, Dimensions: (512, 512), Avg Pixel Intensity: 133.87\n",
      "Subfolder: lasagna, Image: 206740.jpg, Dimensions: (382, 512), Avg Pixel Intensity: 98.58\n",
      "Subfolder: deviled_eggs, Image: 830082.jpg, Dimensions: (512, 384), Avg Pixel Intensity: 67.27\n",
      "Subfolder: prime_rib, Image: 1434685.jpg, Dimensions: (512, 384), Avg Pixel Intensity: 126.68\n",
      "Subfolder: bibimbap, Image: 822381.jpg, Dimensions: (512, 341), Avg Pixel Intensity: 161.36\n",
      "Subfolder: gnocchi, Image: 2923283.jpg, Dimensions: (512, 512), Avg Pixel Intensity: 128.13\n",
      "Subfolder: chicken_quesadilla, Image: 3614780.jpg, Dimensions: (512, 512), Avg Pixel Intensity: 113.69\n",
      "Subfolder: lobster_roll_sandwich, Image: 734672.jpg, Dimensions: (512, 512), Avg Pixel Intensity: 107.67\n",
      "Subfolder: paella, Image: 3177800.jpg, Dimensions: (512, 512), Avg Pixel Intensity: 125.86\n",
      "Subfolder: foie_gras, Image: 182356.jpg, Dimensions: (512, 384), Avg Pixel Intensity: 153.48\n",
      "Subfolder: spring_rolls, Image: 1181067.jpg, Dimensions: (512, 512), Avg Pixel Intensity: 106.47\n",
      "Subfolder: spaghetti_carbonara, Image: 529484.jpg, Dimensions: (512, 512), Avg Pixel Intensity: 116.63\n",
      "Subfolder: tacos, Image: 596139.jpg, Dimensions: (512, 512), Avg Pixel Intensity: 62.69\n",
      "Subfolder: chocolate_cake, Image: 2933079.jpg, Dimensions: (512, 512), Avg Pixel Intensity: 119.05\n",
      "Subfolder: beet_salad, Image: 3147052.jpg, Dimensions: (384, 512), Avg Pixel Intensity: 127.15\n",
      "Subfolder: grilled_cheese_sandwich, Image: 2248682.jpg, Dimensions: (512, 341), Avg Pixel Intensity: 123.54\n",
      "Subfolder: hummus, Image: 3872277.jpg, Dimensions: (512, 512), Avg Pixel Intensity: 158.28\n",
      "Subfolder: breakfast_burrito, Image: 3161406.jpg, Dimensions: (512, 512), Avg Pixel Intensity: 147.71\n",
      "Subfolder: beignets, Image: 3316799.jpg, Dimensions: (384, 512), Avg Pixel Intensity: 114.34\n",
      "Subfolder: grilled_salmon, Image: 2741875.jpg, Dimensions: (512, 512), Avg Pixel Intensity: 93.00\n",
      "Subfolder: french_onion_soup, Image: 545558.jpg, Dimensions: (512, 512), Avg Pixel Intensity: 108.37\n",
      "Subfolder: escargots, Image: 781770.jpg, Dimensions: (512, 512), Avg Pixel Intensity: 89.25\n",
      "Subfolder: chicken_wings, Image: 123447.jpg, Dimensions: (384, 512), Avg Pixel Intensity: 71.80\n",
      "Subfolder: hamburger, Image: 3030255.jpg, Dimensions: (512, 306), Avg Pixel Intensity: 170.60\n",
      "Subfolder: french_toast, Image: 3437457.jpg, Dimensions: (512, 512), Avg Pixel Intensity: 125.84\n",
      "Subfolder: macarons, Image: 3718701.jpg, Dimensions: (512, 512), Avg Pixel Intensity: 94.81\n",
      "Subfolder: caprese_salad, Image: 1155205.jpg, Dimensions: (512, 512), Avg Pixel Intensity: 126.13\n",
      "Subfolder: carrot_cake, Image: 664311.jpg, Dimensions: (512, 512), Avg Pixel Intensity: 84.48\n",
      "Subfolder: chocolate_mousse, Image: 3546527.jpg, Dimensions: (512, 512), Avg Pixel Intensity: 83.39\n",
      "Subfolder: guacamole, Image: 1255283.jpg, Dimensions: (512, 512), Avg Pixel Intensity: 117.69\n",
      "Subfolder: steak, Image: 1098844.jpg, Dimensions: (512, 512), Avg Pixel Intensity: 123.96\n",
      "Subfolder: dumplings, Image: 166937.jpg, Dimensions: (512, 382), Avg Pixel Intensity: 91.07\n",
      "Subfolder: hot_dog, Image: 1851789.jpg, Dimensions: (512, 512), Avg Pixel Intensity: 108.20\n",
      "Subfolder: ice_cream, Image: 3670849.jpg, Dimensions: (384, 512), Avg Pixel Intensity: 56.74\n",
      "Subfolder: poutine, Image: 2475585.jpg, Dimensions: (512, 512), Avg Pixel Intensity: 98.55\n",
      "Subfolder: ramen, Image: 3901364.jpg, Dimensions: (512, 512), Avg Pixel Intensity: 136.84\n",
      "Subfolder: cheesecake, Image: 3258992.jpg, Dimensions: (384, 512), Avg Pixel Intensity: 116.90\n",
      "Subfolder: baklava, Image: 3693361.jpg, Dimensions: (512, 512), Avg Pixel Intensity: 134.40\n",
      "Subfolder: edamame, Image: 781627.jpg, Dimensions: (384, 512), Avg Pixel Intensity: 111.52\n",
      "Subfolder: fish_and_chips, Image: 1906888.jpg, Dimensions: (512, 512), Avg Pixel Intensity: 102.92\n",
      "Subfolder: scallops, Image: 1182379.jpg, Dimensions: (512, 512), Avg Pixel Intensity: 96.51\n",
      "Subfolder: oysters, Image: 2868456.jpg, Dimensions: (512, 512), Avg Pixel Intensity: 97.50\n",
      "Subfolder: strawberry_shortcake, Image: 1226870.jpg, Dimensions: (512, 512), Avg Pixel Intensity: 128.69\n",
      "Subfolder: tuna_tartare, Image: 147706.jpg, Dimensions: (512, 288), Avg Pixel Intensity: 84.11\n",
      "Subfolder: spaghetti_bolognese, Image: 1810896.jpg, Dimensions: (512, 512), Avg Pixel Intensity: 128.39\n",
      "Subfolder: baby_back_ribs, Image: 1804408.jpg, Dimensions: (512, 512), Avg Pixel Intensity: 105.07\n",
      "Subfolder: chicken_curry, Image: 1344942.jpg, Dimensions: (512, 512), Avg Pixel Intensity: 165.37\n",
      "Subfolder: apple_pie, Image: 1199851.jpg, Dimensions: (512, 384), Avg Pixel Intensity: 116.52\n",
      "Subfolder: miso_soup, Image: 1991228.jpg, Dimensions: (512, 384), Avg Pixel Intensity: 99.35\n",
      "Subfolder: macaroni_and_cheese, Image: 434567.jpg, Dimensions: (512, 384), Avg Pixel Intensity: 93.67\n",
      "Subfolder: tiramisu, Image: 727624.jpg, Dimensions: (512, 384), Avg Pixel Intensity: 97.39\n",
      "Subfolder: pulled_pork_sandwich, Image: 18320.jpg, Dimensions: (512, 341), Avg Pixel Intensity: 124.97\n",
      "Subfolder: omelette, Image: 2542831.jpg, Dimensions: (512, 512), Avg Pixel Intensity: 117.76\n",
      "Subfolder: ravioli, Image: 1279151.jpg, Dimensions: (512, 512), Avg Pixel Intensity: 92.29\n",
      "Subfolder: sushi, Image: 1551817.jpg, Dimensions: (512, 384), Avg Pixel Intensity: 101.14\n",
      "Subfolder: shrimp_and_grits, Image: 1831017.jpg, Dimensions: (512, 512), Avg Pixel Intensity: 114.25\n",
      "Subfolder: frozen_yogurt, Image: 3649746.jpg, Dimensions: (384, 512), Avg Pixel Intensity: 147.20\n",
      "Subfolder: bruschetta, Image: 2179573.jpg, Dimensions: (512, 512), Avg Pixel Intensity: 118.65\n",
      "Subfolder: crab_cakes, Image: 70919.jpg, Dimensions: (512, 384), Avg Pixel Intensity: 113.67\n",
      "Subfolder: eggs_benedict, Image: 9428.jpg, Dimensions: (512, 384), Avg Pixel Intensity: 90.19\n",
      "Subfolder: takoyaki, Image: 929396.jpg, Dimensions: (512, 384), Avg Pixel Intensity: 127.90\n",
      "Subfolder: caesar_salad, Image: 3551474.jpg, Dimensions: (512, 512), Avg Pixel Intensity: 98.46\n",
      "Subfolder: pork_chop, Image: 1818115.jpg, Dimensions: (512, 512), Avg Pixel Intensity: 113.68\n",
      "Subfolder: pizza, Image: 1665654.jpg, Dimensions: (512, 384), Avg Pixel Intensity: 89.38\n",
      "Subfolder: pancakes, Image: 3642018.jpg, Dimensions: (512, 512), Avg Pixel Intensity: 145.88\n",
      "Subfolder: croque_madame, Image: 3344655.jpg, Dimensions: (512, 512), Avg Pixel Intensity: 105.79\n"
     ]
    }
   ],
   "source": [
    "image_folder = \"./data/Food\"\n",
    "random_image_stats = analyze_random_images(image_folder)\n",
    "\n",
    "for stat in random_image_stats:\n",
    "    print(f\"Subfolder: {stat[0]}, Image: {stat[1]}, Dimensions: {stat[2]}, Avg Pixel Intensity: {stat[3]:.2f}\")"
   ]
  },
  {
   "cell_type": "code",
   "execution_count": 10,
   "id": "2378fd6e-3c7b-49d3-843a-eca9500bc08a",
   "metadata": {},
   "outputs": [],
   "source": [
    "# using data from random_image_stats to plot the pixel intensities and dimentions (average)\n",
    "\n",
    "widths = []\n",
    "heights = []\n",
    "avg_pixel_intensities = []\n",
    "\n",
    "for _, _, (width, height), avg_intensity in random_image_stats:\n",
    "    widths.append(width)\n",
    "    heights.append(height)\n",
    "    avg_pixel_intensities.append(avg_intensity)"
   ]
  },
  {
   "cell_type": "code",
   "execution_count": 11,
   "id": "f66e30fd-cf63-48e3-851c-6a7291664327",
   "metadata": {},
   "outputs": [
    {
     "data": {
      "image/png": "[encoded data removed]",
      "text/plain": [
       "<Figure size 720x432 with 1 Axes>"
      ]
     },
     "metadata": {
      "needs_background": "light"
     },
     "output_type": "display_data"
    }
   ],
   "source": [
    "plt.figure(figsize=(10, 6))\n",
    "plt.hist(avg_pixel_intensities, bins=30, color='blue', alpha=0.7)\n",
    "plt.title('Histogram of Average Pixel Intensities')\n",
    "plt.xlabel('Average Pixel Intensity')\n",
    "plt.ylabel('Frequency')\n",
    "plt.show()"
   ]
  },
  {
   "cell_type": "code",
   "execution_count": 12,
   "id": "dd760fa2-7982-4654-af39-f294b9863a8a",
   "metadata": {},
   "outputs": [
    {
     "data": {
      "image/png": "[encoded data removed]",
      "text/plain": [
       "<Figure size 720x432 with 1 Axes>"
      ]
     },
     "metadata": {
      "needs_background": "light"
     },
     "output_type": "display_data"
    }
   ],
   "source": [
    "plt.figure(figsize=(10, 6))\n",
    "plt.scatter(widths, heights, alpha=0.7)\n",
    "plt.title('Scatter Plot of Image Dimensions')\n",
    "plt.xlabel('Width')\n",
    "plt.ylabel('Height')\n",
    "plt.show()"
   ]
  },
  {
   "cell_type": "markdown",
   "id": "d9789018-8621-4101-b376-fbebcf3fdc8c",
   "metadata": {},
   "source": [
    "Since our dataset comes with a train and test .txt files, we will go ahead and create these folders to split our data set "
   ]
  },
  {
   "cell_type": "code",
   "execution_count": 13,
   "id": "e3487c35-6c9b-4931-8eb6-68b3a82a10b7",
   "metadata": {},
   "outputs": [],
   "source": [
    "# Function that creates subfolders in the base pth if they dont already exist:\n",
    "\n",
    "def create_subdirectories(base_path, subdirs):\n",
    "    for dir in subdirs:\n",
    "        path = os.path.join(base_path, dir)\n",
    "        if not os.path.exists(path):\n",
    "            os.makedirs(path)\n",
    "\n",
    "\n"
   ]
  },
  {
   "cell_type": "code",
   "execution_count": 14,
   "id": "f5fa3846-66d8-40cf-960c-0299bce7dc20",
   "metadata": {},
   "outputs": [],
   "source": [
    "# function to process the .txt files which reads each line from the file and splits it into subfolder and file name, then copies the file from the source to the destination folder.\n",
    "\n",
    "def process_file_list(file_path, source_base_folder, destination_base_folder, file_extension='.jpg'):\n",
    "    with open(file_path, 'r') as file:\n",
    "        for line in file:\n",
    "            subfolder, file_name = line.strip().split('/')\n",
    "            file_name_with_extension = file_name + file_extension  # Append the file extension\n",
    "            source_path = os.path.join(source_base_folder, subfolder, file_name_with_extension)\n",
    "            destination_path = os.path.join(destination_base_folder, subfolder)\n",
    "\n",
    "            if not os.path.exists(destination_path):\n",
    "                os.makedirs(destination_path)\n",
    "\n",
    "            shutil.copy(source_path, os.path.join(destination_path, file_name_with_extension))\n",
    "\n"
   ]
  },
  {
   "cell_type": "code",
   "execution_count": 15,
   "id": "da8366a8-d604-4274-8f55-d09b74a9697b",
   "metadata": {},
   "outputs": [],
   "source": [
    "# data base path\n",
    "data_base_path = \"./data\"\n"
   ]
  },
  {
   "cell_type": "code",
   "execution_count": 16,
   "id": "89691f3f-07d4-45c4-8f8f-c03c98c717cf",
   "metadata": {},
   "outputs": [],
   "source": [
    "# food_base_path = os.path.join(data_base_path, 'Food')\n",
    "train_path = os.path.join(data_base_path, 'train')\n",
    "test_path = os.path.join(data_base_path, 'test')"
   ]
  },
  {
   "cell_type": "code",
   "execution_count": 17,
   "id": "7ca2fe7d-02ec-475b-868d-4923fa6b80c7",
   "metadata": {},
   "outputs": [],
   "source": [
    "# Create subdirectories in train and test folders\n",
    "create_subdirectories(train_path, subfolders)\n",
    "create_subdirectories(test_path, subfolders)"
   ]
  },
  {
   "cell_type": "code",
   "execution_count": 18,
   "id": "46de14eb-7865-4961-aa3d-0e21d3a0859e",
   "metadata": {},
   "outputs": [
    {
     "name": "stdout",
     "output_type": "stream",
     "text": [
      "Current Working Directory: /home/caleb/school/fall-2023/Artificial-Neural-Net/Final-Project/FoodClassifierAI-Food-Identifier\n"
     ]
    }
   ],
   "source": [
    "# Lets, make sure that our \"train.txt\" and \"test.txt\" are in the same working directory. We can find our current working directoey by doing the following and move the these files here\n",
    "print(\"Current Working Directory:\", os.getcwd())"
   ]
  },
  {
   "cell_type": "code",
   "execution_count": null,
   "id": "df671f7c-e640-4dce-b460-6cb1eb6fbe6f",
   "metadata": {},
   "outputs": [],
   "source": [
    "#Process the train.txt and test.txt files\n",
    "process_file_list('train.txt', food_base_path, train_path)\n",
    "process_file_list('test.txt', food_base_path, test_path)\n"
   ]
  },
  {
   "cell_type": "markdown",
   "id": "06ab6fd2-f853-4d2a-9edf-43738bc391f8",
   "metadata": {},
   "source": [
    "Lets compare the number of images in the train vs test to analyze the split % since we arent aware of this"
   ]
  },
  {
   "cell_type": "code",
   "execution_count": null,
   "id": "a8af6ed9-0aff-47ed-9afc-ad84eca6be0c",
   "metadata": {},
   "outputs": [],
   "source": [
    "# Counting the training images\n",
    "\n",
    "train_count_images_subfolders = {category: len(os.listdir(f'./data/train/{category}')) for category in subfolders}\n",
    "train_count_images_subfolders"
   ]
  },
  {
   "cell_type": "code",
   "execution_count": null,
   "id": "4c6ce21b-adaf-4d79-8c0e-8081339a7d31",
   "metadata": {},
   "outputs": [],
   "source": [
    "test_count_images_subfolders = {category: len(os.listdir(f'./data/test/{category}')) for category in subfolders}\n",
    "test_count_images_subfolders"
   ]
  },
  {
   "cell_type": "code",
   "execution_count": null,
   "id": "94d06adc-800f-4e1f-abc5-ad4f8aa6ae09",
   "metadata": {},
   "outputs": [],
   "source": [
    "train_count = sum(train_count_images_subfolders.values())\n",
    "test_count = sum(test_count_images_subfolders.values())\n",
    "total_images = train_count + test_count\n",
    "\n",
    "print(f\"Train: {train_count/total_images * 100 : .2f}%\")\n",
    "print(f\"Test: {test_count/total_images * 100 : .2f}%\")"
   ]
  },
  {
   "cell_type": "code",
   "execution_count": null,
   "id": "cd65f81a-384b-451d-af3c-801bfd0e5111",
   "metadata": {},
   "outputs": [],
   "source": []
  },
  {
   "cell_type": "code",
   "execution_count": null,
   "id": "b46828f2-32fa-4d25-aef9-a12d0b1d0737",
   "metadata": {},
   "outputs": [],
   "source": []
  },
  {
   "cell_type": "code",
   "execution_count": null,
   "id": "07f16f03-89a6-43c3-9bcb-13cc86c01a52",
   "metadata": {},
   "outputs": [],
   "source": []
  }
 ],
 "metadata": {
  "kernelspec": {
   "display_name": "Python 3 (ipykernel)",
   "language": "python",
   "name": "python3"
  },
  "language_info": {
   "codemirror_mode": {
    "name": "ipython",
    "version": 3
   },
   "file_extension": ".py",
   "mimetype": "text/x-python",
   "name": "python",
   "nbconvert_exporter": "python",
   "pygments_lexer": "ipython3",
   "version": "3.9.12"
  }
 },
 "nbformat": 4,
 "nbformat_minor": 5
}
